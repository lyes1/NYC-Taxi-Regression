{
 "cells": [
  {
   "cell_type": "markdown",
   "metadata": {
    "_uuid": "a93238fa8134cc4caea32aef504ec83921a5f140"
   },
   "source": [
    "# NYC_Taxi"
   ]
  },
  {
   "cell_type": "markdown",
   "metadata": {
    "_uuid": "e8b0b6e0e5350374f4dc0665c3ae783ca73ee14e"
   },
   "source": [
    "## 1. Data Loading"
   ]
  },
  {
   "cell_type": "code",
   "execution_count": null,
   "metadata": {
    "_uuid": "467c1cf45b40ef1427b284662045a4ef2486aeee"
   },
   "outputs": [],
   "source": [
    "import os\n",
    "\n",
    "import matplotlib as mpl\n",
    "import matplotlib.pyplot as plt\n",
    "import numpy as np\n",
    "import pandas as pd\n",
    "import seaborn as snb\n",
    "from sklearn.ensemble import RandomForestClassifier\n",
    "from sklearn.model_selection import train_test_split\n",
    "\n",
    "%matplotlib inline\n",
    "snb.set({'figure.figsize':(16,8), 'axes.titlesize':30, 'axes.labelsize':20})\n",
    "#mpl.rcParams('axes.titilesize')=20"
   ]
  },
  {
   "cell_type": "code",
   "execution_count": null,
   "metadata": {
    "_uuid": "254d1a4c2f1cda6f2e7fba683e5fa56c45094897"
   },
   "outputs": [],
   "source": [
    "TRAINFILEPATH = os.path.join('..', 'input', 'nyc-taxi-duration', 'train.csv')"
   ]
  },
  {
   "cell_type": "code",
   "execution_count": null,
   "metadata": {
    "_uuid": "6085dc3b34729109065ee77abb15547b316415f3"
   },
   "outputs": [],
   "source": [
    "df = pd.read_csv(TRAINFILEPATH, index_col=0)"
   ]
  },
  {
   "cell_type": "markdown",
   "metadata": {
    "_uuid": "1a99765521feda5f84411dbbf075f027823c9be8"
   },
   "source": [
    "## 2. Data Exploration"
   ]
  },
  {
   "cell_type": "markdown",
   "metadata": {
    "_uuid": "511930ab4ef129576aadd0c00b2579e232f43ed1"
   },
   "source": [
    "**a- First steps in dataset exploration**"
   ]
  },
  {
   "cell_type": "code",
   "execution_count": null,
   "metadata": {
    "_uuid": "f4bfc5cec3a13a07ff2f48146c4a5ec3de45cf9b"
   },
   "outputs": [],
   "source": [
    "df.head()"
   ]
  },
  {
   "cell_type": "code",
   "execution_count": null,
   "metadata": {
    "_uuid": "b1fed7ca361eb8f389bd10078cdfbcfbccc2c8f1"
   },
   "outputs": [],
   "source": [
    "df.shape"
   ]
  },
  {
   "cell_type": "code",
   "execution_count": null,
   "metadata": {
    "_uuid": "5e56d06a39ce6e7a8c1bfd9361cc47c6e288f608"
   },
   "outputs": [],
   "source": [
    "df.info()"
   ]
  },
  {
   "cell_type": "code",
   "execution_count": null,
   "metadata": {
    "_uuid": "0f04c893540681519a7ae31cfbbcb664c4b407ab"
   },
   "outputs": [],
   "source": [
    "df.isna().sum()"
   ]
  },
  {
   "cell_type": "markdown",
   "metadata": {
    "_uuid": "ca63d5483802ff720df658bbdf61a3c6ce95b684"
   },
   "source": [
    "The dataset is complete. There is no missing data."
   ]
  },
  {
   "cell_type": "markdown",
   "metadata": {
    "_uuid": "090972d0e980751852295ad39920934ca76550fa"
   },
   "source": [
    "**b- Features vizualisation**"
   ]
  },
  {
   "cell_type": "code",
   "execution_count": null,
   "metadata": {
    "_uuid": "4ce8ab669ad7850f09fb0752a9b02aa0fe54f5e9"
   },
   "outputs": [],
   "source": [
    "ax = df['passenger_count'].value_counts(normalize=True).plot.bar();\n",
    "ax.set_ylabel(\"Percentage\")\n",
    "ax.set_xlabel(\"Passenger count\")\n",
    "ax.set_title(\"Repartition of passenger count\");"
   ]
  },
  {
   "cell_type": "code",
   "execution_count": null,
   "metadata": {
    "_uuid": "a56efccb323e221a8420c6a1dc42c7277935444e"
   },
   "outputs": [],
   "source": [
    "df[df['passenger_count'] == 0].shape"
   ]
  },
  {
   "cell_type": "markdown",
   "metadata": {
    "_uuid": "295652304f26bf4f0bf016e3e787c309fa685e0a"
   },
   "source": [
    "70% of the trips has one passenger. There is 60 trips with no passengers! This is a little bit suspecious!"
   ]
  },
  {
   "cell_type": "code",
   "execution_count": null,
   "metadata": {
    "_uuid": "a5439060c67e1431656709bbc528c014ef67bad4"
   },
   "outputs": [],
   "source": [
    "ax = df['vendor_id'].value_counts(normalize=True).plot.bar()\n",
    "ax.set_xlabel(\"Vendor ID\")\n",
    "ax.set_ylabel(\"Frequency\")\n",
    "ax.set_title(\"Frequency of vendor ID\");"
   ]
  },
  {
   "cell_type": "markdown",
   "metadata": {
    "_uuid": "04edac365110199a0a3a1f52dbd4065fa95fab56"
   },
   "source": [
    "Vendor ID may refer to the Taxi's campany. "
   ]
  },
  {
   "cell_type": "code",
   "execution_count": null,
   "metadata": {
    "_uuid": "24409e629f6394f5ace2e7f5ff0be4ae51ca2ca6"
   },
   "outputs": [],
   "source": [
    "ax = df['store_and_fwd_flag'].value_counts(normalize=True).plot.bar()\n",
    "ax.set_xlabel(\"store_and_fwd_flag\")\n",
    "ax.set_ylabel(\"Frequency\")\n",
    "ax.set_title(\"Frequency of store_and_fwd_flag\");"
   ]
  },
  {
   "cell_type": "markdown",
   "metadata": {
    "_uuid": "f168b90f71bc8802bd644652a2cb53b887bf3075"
   },
   "source": [
    "Almost all the trip have the value 'N' in 'store_and_fwd_flag' variable which means that the trip data was sent immediately to the vendor."
   ]
  },
  {
   "cell_type": "code",
   "execution_count": null,
   "metadata": {
    "_uuid": "834896df5088860cd4ad74a808f627260cb241ec"
   },
   "outputs": [],
   "source": [
    "plt.scatter(df['vendor_id'], df['trip_duration'])\n",
    "plt.xlabel(\"Vendor ID\");\n",
    "plt.ylabel(\"Trip duration\")\n",
    "plt.title(\"Scatter plot of vendor ID & trip duration\");"
   ]
  },
  {
   "cell_type": "markdown",
   "metadata": {
    "_uuid": "9ed408e5b295ef5fb117bf03ff8820ddecbbe712"
   },
   "source": [
    "The large trip durations are made by the vendor ID 1"
   ]
  },
  {
   "cell_type": "markdown",
   "metadata": {
    "_uuid": "9b85bc3602c8e02f8afdad95c62e5523ddc74311"
   },
   "source": [
    "**c- Date transformation**"
   ]
  },
  {
   "cell_type": "code",
   "execution_count": null,
   "metadata": {
    "_uuid": "ab1417588b8d729a18643d12462d518c2b004f52"
   },
   "outputs": [],
   "source": [
    "df['pickup_datetime'] = pd.to_datetime(df['pickup_datetime'])\n",
    "df['dropoff_datetime'] = pd.to_datetime(df['dropoff_datetime'])"
   ]
  },
  {
   "cell_type": "code",
   "execution_count": null,
   "metadata": {
    "_uuid": "2586ad52fbe82c6448d4b3e5df7889cd46deb730"
   },
   "outputs": [],
   "source": [
    "df[df['pickup_datetime'].dt.year == 2016].shape, df[df['dropoff_datetime'].dt.year == 2016].shape"
   ]
  },
  {
   "cell_type": "code",
   "execution_count": null,
   "metadata": {
    "_uuid": "b858f07c7f4cc3c9d00e3592d3c07b3c2522bc0e"
   },
   "outputs": [],
   "source": [
    "ax = df['pickup_datetime'].dt.year.value_counts(normalize=True, ascending=True,).plot.bar()\n",
    "ax.set_xlabel(\"year\");\n",
    "ax.set_ylabel(\"Frequency\")\n",
    "ax.set_title(\"Pickup frequency by years \");"
   ]
  },
  {
   "cell_type": "markdown",
   "metadata": {
    "_uuid": "6faff683c2169271c0fbe0eddec5e849996da3b7"
   },
   "source": [
    "All the trips happened on 2016."
   ]
  },
  {
   "cell_type": "code",
   "execution_count": null,
   "metadata": {
    "_uuid": "183aafdfc7ee890cad3fb3e17609adc17bafc1ea"
   },
   "outputs": [],
   "source": [
    "ax = df['pickup_datetime'].dt.month.value_counts(normalize=True, ascending=True,).plot.bar()\n",
    "ax.set_xlabel(\"month\");\n",
    "ax.set_ylabel(\"Frequency\")\n",
    "ax.set_title(\"Pickup frequency by months \");"
   ]
  },
  {
   "cell_type": "markdown",
   "metadata": {
    "_uuid": "c3de912fa6c08fa8de43bd33aa9a04c985ffe317"
   },
   "source": [
    "The trips happended between January and June on 2016."
   ]
  },
  {
   "cell_type": "markdown",
   "metadata": {
    "_uuid": "8765d868057bd4e30d2c7163c73326ab74b84825"
   },
   "source": [
    "**d- Target variable: trip_duration**"
   ]
  },
  {
   "cell_type": "code",
   "execution_count": null,
   "metadata": {
    "_uuid": "000143d1bebd9bda50a925ae4541982a4bd7ebf3"
   },
   "outputs": [],
   "source": [
    "ax = df[\"trip_duration\"].plot.hist()\n",
    "ax.set_xlabel(\"Trip duration\")\n",
    "ax.set_ylabel(\"Frequency\")\n",
    "ax.set_title(\"Frequency of trip duration\");"
   ]
  },
  {
   "cell_type": "code",
   "execution_count": null,
   "metadata": {
    "_uuid": "d21795fe299b4518d0f793d219b7197648c3cfd7"
   },
   "outputs": [],
   "source": [
    "ax = df.loc[df['trip_duration'] < 5000, 'trip_duration'].hist(bins=20)\n",
    "ax.set_xlabel(\"Trip duration\")\n",
    "ax.set_ylabel(\"Frequency\")\n",
    "ax.set_title(\"Frequency of trip duration - A zoom\");"
   ]
  },
  {
   "cell_type": "markdown",
   "metadata": {
    "_uuid": "038110e520ec70f3eee4cb37c5a6b0d0481bcee2"
   },
   "source": [
    " There is a lot of trips with small duration ie. less than 4500 secondes (75 minutes) and a few larger trip duration that aren’t visible at all at the right."
   ]
  },
  {
   "cell_type": "markdown",
   "metadata": {
    "_uuid": "76b04f2b51cd00a5d3adde30a92f59b9cd7dd412"
   },
   "source": [
    " Let's try the log of the trip duration:"
   ]
  },
  {
   "cell_type": "code",
   "execution_count": null,
   "metadata": {
    "_uuid": "c71bd48596bd8b0a76e5e77a29c63edda31c25a4"
   },
   "outputs": [],
   "source": [
    "ax = np.log(df[\"trip_duration\"]).hist(bins=50)\n",
    "ax.set_xlabel(\"Log of trip duration\")\n",
    "ax.set_ylabel(\"Frequency\")\n",
    "ax.set_title(\"Frequency of trip durations log\");"
   ]
  },
  {
   "cell_type": "markdown",
   "metadata": {
    "_uuid": "2544ece3ee8850304f6bcd99ed7fe9f61dd27bbc"
   },
   "source": [
    "We can see that the log almost follows a normal distribution. We should also notice the values between log (11) and log(12)."
   ]
  },
  {
   "cell_type": "code",
   "execution_count": null,
   "metadata": {
    "_uuid": "8febbbed073e121ee5509591e98b8783bc15964b"
   },
   "outputs": [],
   "source": [
    "snb.boxplot(df[\"trip_duration\"]);"
   ]
  },
  {
   "cell_type": "markdown",
   "metadata": {
    "_uuid": "c9d04e98a0df8bf38bfb9ea14eac245c05d0d725"
   },
   "source": [
    "There are some suspecious trip durations that took about 2000000 secondes ie. 23 days! "
   ]
  },
  {
   "cell_type": "markdown",
   "metadata": {
    "_uuid": "855bb58d150c4188d229cfc30116a53af5cf630b"
   },
   "source": [
    "## 3. Data preprocessing"
   ]
  },
  {
   "cell_type": "markdown",
   "metadata": {
    "_uuid": "cd9c149120803a5d810c2e2b110b004f3adc3c74"
   },
   "source": [
    "**a- Month, day, hour and minute of the pickup and dropoff extraction**"
   ]
  },
  {
   "cell_type": "code",
   "execution_count": null,
   "metadata": {
    "_uuid": "6940837732e1e7c61fdeba6dabd908ea1b2930c3"
   },
   "outputs": [],
   "source": [
    "train = df # create a copy of our dataset"
   ]
  },
  {
   "cell_type": "code",
   "execution_count": null,
   "metadata": {
    "_uuid": "cb02a27e157eff2a12b897d2f329d615a3652251"
   },
   "outputs": [],
   "source": [
    "# adding the new columns to the train dataset\n",
    "train['month_pickup']=df['pickup_datetime'].dt.month\n",
    "train['day_pickup']=df['pickup_datetime'].dt.day\n",
    "train['hour_pickup']=df['pickup_datetime'].dt.hour\n",
    "train['minute_pickup']=df['pickup_datetime'].dt.minute\n",
    "train['second_pickup']=df['pickup_datetime'].dt.second\n",
    "\n",
    "train = train.drop(columns=['pickup_datetime'])"
   ]
  },
  {
   "cell_type": "markdown",
   "metadata": {
    "_uuid": "f52cf69b992d0face952a5e4944627bcae94f465"
   },
   "source": [
    " **b- Crow flies distance of the trips**"
   ]
  },
  {
   "cell_type": "markdown",
   "metadata": {
    "_uuid": "f2e78f17c6164c8d98ee6106effea2c28eee0c36"
   },
   "source": [
    "We add a new colunm to the dataset that gives the crow flies distance between the pickup and dropoff trips. "
   ]
  },
  {
   "cell_type": "code",
   "execution_count": null,
   "metadata": {
    "_uuid": "a1a49bd889fca2a7821d6a44a11505ac98fdc920"
   },
   "outputs": [],
   "source": [
    "# This piece of code is inspired from: http://blog.tkbe.org/archive/python-calculating-the-distance-between-two-locations/\n",
    "# It calculate the \"crow flies\" distance between two locations \n",
    "import math\n",
    " \n",
    "def cosrad(n):\n",
    "    \"Return the cosine of ``n`` degrees in radians.\"\n",
    "    return math.cos(math.radians(n))\n",
    "\n",
    "def distance(row):\n",
    "    \"\"\"Calculate the distance between two points on earth.\n",
    "    \"\"\"\n",
    "    lat1 = row['pickup_latitude']\n",
    "    long1 = row['pickup_longitude']\n",
    "    lat2 = row['dropoff_latitude']\n",
    "    long2 = row['dropoff_longitude']\n",
    "    earth_radius = 6371  # km\n",
    "    dLat = math.radians(lat2 - lat1)\n",
    "    dLong = math.radians(long2 - long1)\n",
    "    a = (math.sin(dLat / 2) ** 2 +\n",
    "         cosrad(lat1) * cosrad(lat2) * math.sin(dLong / 2) ** 2)\n",
    "    c = 2 * math.atan2(math.sqrt(a), math.sqrt(1 - a))\n",
    "    d = earth_radius * c\n",
    "    return d"
   ]
  },
  {
   "cell_type": "code",
   "execution_count": null,
   "metadata": {
    "_uuid": "c91c5fa5d1d8ec2d5cf1d9959aed500cbc06286f"
   },
   "outputs": [],
   "source": [
    "# adding the trip distance column\n",
    "train['trip_distance']=df.apply(distance, axis=1)"
   ]
  },
  {
   "cell_type": "markdown",
   "metadata": {
    "_uuid": "91399eb6509c6022a417722ef106def0b42a6a0b"
   },
   "source": [
    "**c- Log transform of the trip duration**"
   ]
  },
  {
   "cell_type": "code",
   "execution_count": null,
   "metadata": {
    "_uuid": "265bb787084183efe367d63c5785b2e3dc161ca8"
   },
   "outputs": [],
   "source": [
    "train['trip_duration_log']=df['trip_duration'].apply(np.log)\n",
    "#train = train.drop(columns=['pickup_datetime','dropoff_datetime'])"
   ]
  },
  {
   "cell_type": "code",
   "execution_count": null,
   "metadata": {
    "_uuid": "925cafc5614f108a81ccc209ea4119335482cb69"
   },
   "outputs": [],
   "source": [
    "train.head()"
   ]
  },
  {
   "cell_type": "markdown",
   "metadata": {
    "_uuid": "1f7cfe4c51ac31eda465b2657f97bae8092c805d"
   },
   "source": [
    "## 4. Features engineering"
   ]
  },
  {
   "cell_type": "code",
   "execution_count": null,
   "metadata": {
    "_uuid": "804d9d7424f216f7627c1324ecb3c585cd2d27b2"
   },
   "outputs": [],
   "source": [
    "X = train[['trip_distance', 'month_pickup', 'day_pickup', 'hour_pickup', 'minute_pickup',]]\n",
    "y = train['trip_duration_log']\n",
    "X.shape, y.shape"
   ]
  },
  {
   "cell_type": "markdown",
   "metadata": {
    "_uuid": "d96b53d1af2fe40d89476670be68fedaf26390d0"
   },
   "source": [
    "## 5. Validation and scoring methods"
   ]
  },
  {
   "cell_type": "markdown",
   "metadata": {
    "_uuid": "41f7f143abfdc6f6ad33de148c9ccc99903c63e8"
   },
   "source": [
    "We choose to usde the cross-validation method. The scoring function, which is RMSLE as specified by the competition, is impelemented."
   ]
  },
  {
   "cell_type": "code",
   "execution_count": null,
   "metadata": {
    "_uuid": "97adf58d6824e168ea3eebfe8b5836b78d6e02c8"
   },
   "outputs": [],
   "source": [
    "from sklearn.metrics import make_scorer\n",
    "from sklearn.model_selection import cross_val_score"
   ]
  },
  {
   "cell_type": "code",
   "execution_count": null,
   "metadata": {
    "_uuid": "02f03d6f827ce0387d9d75e767c51de4758371f9"
   },
   "outputs": [],
   "source": [
    "# Find in the comment of Enrique Pérez Herrero in: https://www.kaggle.com/marknagelberg/rmsle-function\n",
    "def rmsle_func(ypred, ytest) :\n",
    "    assert len(ytest) == len(ypred)\n",
    "    return np.sqrt(np.mean((np.log1p(ypred) - np.log1p(ytest))**2))"
   ]
  },
  {
   "cell_type": "code",
   "execution_count": null,
   "metadata": {
    "_uuid": "a9e30ff918a377492cbda1c20c77b76895a8ffd7"
   },
   "outputs": [],
   "source": [
    "rmsle = make_scorer(rmsle_func) # Make RMSLE as a scorer"
   ]
  },
  {
   "cell_type": "markdown",
   "metadata": {
    "_uuid": "3ea1f524b8ad9032f97ad4862ca566f321842fe7"
   },
   "source": [
    "## 6. Models selection"
   ]
  },
  {
   "cell_type": "code",
   "execution_count": null,
   "metadata": {
    "_uuid": "bc1e7e8c2390ec271516f42f631d0c797fb88ea4"
   },
   "outputs": [],
   "source": [
    "from sklearn.ensemble import RandomForestRegressor\n",
    "from sklearn.linear_model import SGDRegressor\n",
    "from sklearn.linear_model import LinearRegression"
   ]
  },
  {
   "cell_type": "code",
   "execution_count": null,
   "metadata": {
    "_uuid": "ed82d9133da2264db360c0faa8728c64cc000c84"
   },
   "outputs": [],
   "source": [
    "rfr = RandomForestRegressor(n_estimators=100)\n",
    "reg = LinearRegression()\n",
    "sgdr = SGDRegressor()"
   ]
  },
  {
   "cell_type": "markdown",
   "metadata": {
    "_uuid": "671c7f787db8b1e1e5d5c2c24d3f2b594f576a11"
   },
   "source": [
    "## 7. Models training"
   ]
  },
  {
   "cell_type": "code",
   "execution_count": null,
   "metadata": {
    "_uuid": "c1eef17210060ef3468b0bf2706e0d088c36f57f"
   },
   "outputs": [],
   "source": [
    "scores_rfr = cross_val_score(rfr, X, y, cv=5, scoring=rmsle)"
   ]
  },
  {
   "cell_type": "code",
   "execution_count": null,
   "metadata": {
    "_uuid": "48b5d9c5d538bbd6345b28bc897c76289b7dbe2b"
   },
   "outputs": [],
   "source": [
    "print(\"RMSLE: %0.2f (+/- %0.4f)\" % (scores_rfr.mean(), scores_rfr.std() * 2))"
   ]
  },
  {
   "cell_type": "code",
   "execution_count": null,
   "metadata": {
    "_uuid": "01e13a8a27099be27412e26ed45ca9e914e994fd"
   },
   "outputs": [],
   "source": [
    "scores_reg = cross_val_score(reg, X, y, cv=5, scoring=rmsle)\n",
    "print(\"RMSLE: %0.2f (+/- %0.4f)\" % (scores_reg.mean(), scores_reg.std() * 2))"
   ]
  },
  {
   "cell_type": "code",
   "execution_count": null,
   "metadata": {
    "_uuid": "ea8e249ebfe22d4de682ec8752b942e9878cb394"
   },
   "outputs": [],
   "source": [
    "scores_sgdr= cross_val_score(sgdr, X, y, cv=5, scoring=rmsle)"
   ]
  },
  {
   "cell_type": "code",
   "execution_count": null,
   "metadata": {
    "_uuid": "5b20618a964e493b4ca95fc9dd040cae45eee3d9"
   },
   "outputs": [],
   "source": [
    "print(\"RMSLE: %0.2f (+/- %0.4f)\" % (scores_sgdr.mean(), scores_sgdr.std() * 2))"
   ]
  },
  {
   "cell_type": "markdown",
   "metadata": {
    "_uuid": "fbca3cf34905858e1aa14a0e42c18e14de70b64f"
   },
   "source": [
    "We notice that the Random Forest Regressor gives the smallest mean of the five cross-validation RMSLEs (0.07). So, we choose this model to fit it."
   ]
  },
  {
   "cell_type": "markdown",
   "metadata": {
    "_uuid": "deb9bc14f3fd702a79571ca47d065c9eeb4aaaf6"
   },
   "source": [
    "## 8. Chosen model fiting"
   ]
  },
  {
   "cell_type": "code",
   "execution_count": null,
   "metadata": {
    "_uuid": "8ef438c7c4de2e46d6e165e7a1261b5e5fa6a95e"
   },
   "outputs": [],
   "source": [
    "rfr.fit(X, y)"
   ]
  },
  {
   "cell_type": "markdown",
   "metadata": {
    "_uuid": "f7a700a92e71598814d721ba76930cdad1d568f8"
   },
   "source": [
    "## 9. Predictions"
   ]
  },
  {
   "cell_type": "markdown",
   "metadata": {
    "_uuid": "9ccd8a09a95b34b4943f2315cc6ef013fe01f9a7"
   },
   "source": [
    "**a- Laod the test file**"
   ]
  },
  {
   "cell_type": "code",
   "execution_count": null,
   "metadata": {
    "_uuid": "4bbedc5ce77f4724be3fb6e0448bdb54cdaaef24"
   },
   "outputs": [],
   "source": [
    "TESTFILEPATH = os.path.join('..', 'input', 'nyc-taxi-duration', 'test.csv')\n",
    "test = pd.read_csv(TESTFILEPATH)"
   ]
  },
  {
   "cell_type": "markdown",
   "metadata": {
    "_uuid": "8a46b2526aa5b061aa11f681e2b4bbc4c1c1301e"
   },
   "source": [
    "**b- Data transformation**"
   ]
  },
  {
   "cell_type": "code",
   "execution_count": null,
   "metadata": {
    "_uuid": "d4edd820ceffc721fa8b17dff750dd9aab2efdb0"
   },
   "outputs": [],
   "source": [
    "# Date type transformation\n",
    "test['pickup_datetime'] = pd.to_datetime(test['pickup_datetime'])\n",
    "# It calculate the \"crow flies\" distance between two locations \n",
    "test['month_pickup']=test['pickup_datetime'].dt.month\n",
    "test['day_pickup']=test['pickup_datetime'].dt.day\n",
    "test['hour_pickup']=test['pickup_datetime'].dt.hour\n",
    "test['minute_pickup']=test['pickup_datetime'].dt.minute\n",
    "test['second_pickup']=test['pickup_datetime'].dt.second\n",
    "test = test.drop(columns=['pickup_datetime'])\n",
    "# adding the trip distance column\n",
    "test['trip_distance']=test.apply(distance, axis=1)"
   ]
  },
  {
   "cell_type": "code",
   "execution_count": null,
   "metadata": {
    "_uuid": "5712c509520f8570fc18b39277448130abab7350"
   },
   "outputs": [],
   "source": [
    "test.head()"
   ]
  },
  {
   "cell_type": "code",
   "execution_count": null,
   "metadata": {
    "_uuid": "1cd3cdd4ec8f45137b1c589e3422fc0efca41c97"
   },
   "outputs": [],
   "source": [
    "# test independant variables (features)\n",
    "test_X = test[['trip_distance', 'month_pickup', 'day_pickup', 'hour_pickup', 'minute_pickup']]"
   ]
  },
  {
   "cell_type": "markdown",
   "metadata": {
    "_uuid": "6ebb102b4df8d9ad4bfcb814bc0e4669152a46c1"
   },
   "source": [
    "**c- Predictions using the chosen model**"
   ]
  },
  {
   "cell_type": "code",
   "execution_count": null,
   "metadata": {
    "_uuid": "551a1d771d49b34d4cc02ad98f0f9aa2bbfa03c7"
   },
   "outputs": [],
   "source": [
    "predicted_duration_log = rfr.predict(test_X) "
   ]
  },
  {
   "cell_type": "code",
   "execution_count": null,
   "metadata": {
    "_uuid": "8746a483203c13a885a67162e24a7532aa3ff401"
   },
   "outputs": [],
   "source": [
    "predicted_duration = np.exp(predicted_duration_log) # reverse the log predictions\n",
    "predicted_duration"
   ]
  },
  {
   "cell_type": "markdown",
   "metadata": {
    "_uuid": "c65e97cdc26ba74897231f18cb15d4e048ad35e9"
   },
   "source": [
    "## 10. Prediction file submission"
   ]
  },
  {
   "cell_type": "code",
   "execution_count": null,
   "metadata": {
    "_uuid": "7bb0a2d3511722849587a66de303a0a785325c80"
   },
   "outputs": [],
   "source": [
    "my_submission = pd.DataFrame({'id': test['id'], 'trip_duration': predicted_duration})\n",
    "my_submission.to_csv('submission.csv', index=False)"
   ]
  }
 ],
 "metadata": {
  "kernelspec": {
   "display_name": "Python 3",
   "language": "python",
   "name": "python3"
  },
  "language_info": {
   "codemirror_mode": {
    "name": "ipython",
    "version": 3
   },
   "file_extension": ".py",
   "mimetype": "text/x-python",
   "name": "python",
   "nbconvert_exporter": "python",
   "pygments_lexer": "ipython3",
   "version": "3.7.1"
  }
 },
 "nbformat": 4,
 "nbformat_minor": 1
}
